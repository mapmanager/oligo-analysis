{
 "cells": [
  {
   "cell_type": "markdown",
   "id": "97a12cd5",
   "metadata": {},
   "source": [
    "## Pre-process image stack\n",
    "\n",
    "For a final stack like `fst-concat-rgb-small.tif`, we had to do some pre-processing.\n",
    "\n",
    " - a. Concatenate all individual raw stacks. Cellpose wants >5 cells for training.\n",
    " - b. Make the combined stack (a) into an RGB stack.\n",
    " - c. Reduce the size of that raw stack (downsample). Cellpose wants DAPI cell bodies to be about 10 pixels (check this number). This stack is saved as `fst-concat-rgb-small.tif`.\n",
    " - d. Export the stack (c) to a folder with one slice per file. Cellpose trains on slices, not stacks. Make sure each slice is iteself RGB.\n",
    " - e. Use cellpose interface to train the model on the individual slice images in the folder (d)\n",
    " \n",
    "Once we have trained a model, we can apply that model to a 3D RGB stack like `fst-concat-rgb-small.tif` that was created in (c).\n",
    "\n",
    "Cellpose will save a `_seg.npy` file whith the output of the model including a mask of (in this case) DAPI cell bodies.\n",
    "    "
   ]
  },
  {
   "cell_type": "markdown",
   "id": "50c52d54",
   "metadata": {},
   "source": [
    "## Online Tutorials\n",
    "\n",
    "Here, I am doing a classic textbook mask analysis by making a DAPI 'ring' mask (with erosion and dilation) and counting pixels in the Oligo channel that are within that mask.\n",
    "\n",
    "#### **Note, I only discovered this after the entire process was done!!!**\n",
    "\n",
    "https://scikit-image.org/docs/stable/auto_examples/applications/plot_fluorescence_nuclear_envelope.html#sphx-glr-auto-examples-applications-plot-fluorescence-nuclear-envelope-py\n",
    "\n",
    "A very good online respurce with lots of image processing tutorials in Python and visualized with Napari.\n",
    "\n",
    "See: https://haesleinhuepf.github.io/BioImageAnalysisNotebooks/31_graphical_user_interfaces/napari.html\n"
   ]
  },
  {
   "cell_type": "markdown",
   "id": "041c15cb",
   "metadata": {},
   "source": [
    "## Import Python packages"
   ]
  },
  {
   "cell_type": "code",
   "execution_count": null,
   "id": "64c9278e",
   "metadata": {},
   "outputs": [],
   "source": [
    "import os\n",
    "import numpy as np\n",
    "import pandas as pd\n",
    "from skimage.io import imread\n",
    "from skimage.measure import regionprops, regionprops_table\n",
    "import scipy\n",
    "\n",
    "import seaborn as sns\n",
    "import plotly.express as px\n",
    "\n",
    "from IPython.display import display, HTML\n",
    "\n",
    "import napari\n",
    "import napari_layer_table  # our custom plugin (installed from source)"
   ]
  },
  {
   "cell_type": "markdown",
   "id": "a40d3521",
   "metadata": {},
   "source": [
    "## Load the 3D RGB stack that we applied the model to."
   ]
  },
  {
   "cell_type": "code",
   "execution_count": null,
   "id": "2be24942",
   "metadata": {},
   "outputs": [],
   "source": [
    "# what the model was trained on\n",
    "tifPath = '/Users/cudmore/Dropbox/data/whistler/data-oct-10/cellpose-model/fst-concat-small-slices/fst-concat-rgb-small.tif'\n",
    "# label 69 is 100% hit\n",
    "# label 86\n",
    "\n",
    "# model was applided to this\n",
    "#tifPath = '/Users/cudmore/Dropbox/data/whistler/data-oct-10/Morphine/Morphine-rgb-merged-small.tif'\n",
    "\n",
    "filename = os.path.split(tifPath)[1]\n",
    "\n",
    "imageData = imread(tifPath)\n",
    "\n",
    "# print out the spatial dimensions of the image\n",
    "print(filename)\n",
    "print('imageData:', imageData.shape, imageData.dtype)"
   ]
  },
  {
   "cell_type": "markdown",
   "id": "9c23dbd8",
   "metadata": {},
   "source": [
    "## Split the RGB stack into individual color channels.\n",
    "\n",
    "- Oligo/red is channel 0\n",
    "- DAPI/green is channel 1"
   ]
  },
  {
   "cell_type": "code",
   "execution_count": null,
   "id": "76086a25",
   "metadata": {},
   "outputs": [],
   "source": [
    "# oligo channel\n",
    "redChannelIdx = 0\n",
    "imageData_red = imageData[:,:,:,redChannelIdx]  # (slice, x, y)\n",
    "print('imageData_red:', imageData_red.shape, imageData_red.dtype)\n",
    "\n",
    "# dapi channel\n",
    "greenChannelIdx = 1\n",
    "imageData_green = imageData[:,:,:,greenChannelIdx]  # (slice, x, y)\n",
    "print('imageData_green:', imageData_green.shape, imageData_green.dtype)"
   ]
  },
  {
   "cell_type": "markdown",
   "id": "20df2334",
   "metadata": {},
   "source": [
    "## Open a napari viewer"
   ]
  },
  {
   "cell_type": "code",
   "execution_count": null,
   "id": "5b79c5ff",
   "metadata": {},
   "outputs": [],
   "source": [
    "# Create an empty viewer\n",
    "viewer = napari.Viewer()\n",
    "\n",
    "# Remove all layers to start from scratch\n",
    "# for l in viewer.layers:\n",
    "#     viewer.layers.remove(l)"
   ]
  },
  {
   "cell_type": "markdown",
   "id": "6a8614d3",
   "metadata": {},
   "source": [
    "Add original 3D RGB stack"
   ]
  },
  {
   "cell_type": "code",
   "execution_count": null,
   "id": "9b555864",
   "metadata": {},
   "outputs": [],
   "source": [
    "# Add a new layer containing the rgb image\n",
    "rgbLayer = viewer.add_image(imageData, name=filename)"
   ]
  },
  {
   "cell_type": "markdown",
   "id": "9043241e",
   "metadata": {},
   "source": [
    "Add green and red channels"
   ]
  },
  {
   "cell_type": "code",
   "execution_count": null,
   "id": "17afdf70",
   "metadata": {},
   "outputs": [],
   "source": [
    "redLayer = viewer.add_image(imageData_red)\n",
    "redLayer.colormap = 'red'\n",
    "redLayer.contrast_limits = (0, 128)\n",
    "\n",
    "greenLayer = viewer.add_image(imageData_green)\n",
    "greenLayer.colormap = 'green'\n",
    "greenLayer.contrast_limits = (0, 128)\n"
   ]
  },
  {
   "cell_type": "markdown",
   "id": "89e87764",
   "metadata": {},
   "source": [
    "Define a function to run the napari-layer-table plugin"
   ]
  },
  {
   "cell_type": "code",
   "execution_count": null,
   "id": "8c43daea",
   "metadata": {},
   "outputs": [],
   "source": [
    "# run napari-layer-table\n",
    "def runPlugin(viewer, layer, onAddCallback=None):\n",
    "\n",
    "    # create the plugin\n",
    "    ltp = napari_layer_table.LayerTablePlugin(viewer, oneLayer=layer, onAddCallback=onAddCallback)\n",
    "    #ltp.signalDataChanged.connect(on_user_edit_points2)\n",
    "\n",
    "    # show\n",
    "    area = 'right'\n",
    "    name = layer.name\n",
    "    _dockWidget = viewer.window.add_dock_widget(ltp, \n",
    "                        area=area, name=name)\n",
    "\n",
    "    return ltp\n",
    "\n",
    "#runPlugin(viewer, dapi_dilated_mask_layer)"
   ]
  },
  {
   "cell_type": "markdown",
   "id": "b9ad1550",
   "metadata": {},
   "source": [
    "## Threshold the red channel to generate a binary mask\n",
    "\n",
    "This is completely independ from anything we have done with cellpose.\n",
    " 1. Gaussian blur\n",
    " 2. Threshold with Otsu\n"
   ]
  },
  {
   "cell_type": "code",
   "execution_count": null,
   "id": "6b2e87c2",
   "metadata": {},
   "outputs": [],
   "source": [
    "from skimage.filters import gaussian\n",
    "from skimage.filters import threshold_otsu\n",
    "\n",
    "# blur\n",
    "imageData_red_blurred = gaussian(imageData_red, sigma=1)\n",
    "\n",
    "# Add to napari\n",
    "#viewer.add_image(imageData_red_blurred)\n",
    "\n",
    "threshold = threshold_otsu(imageData_red_blurred)\n",
    "print(f'{filename} otsu threshold: {threshold}')\n",
    "\n",
    "red_binary_image = imageData_red_blurred > threshold  # [True, False]\n",
    "\n",
    "#print('unique in red_binary_image', np.unique(red_binary_image))"
   ]
  },
  {
   "cell_type": "markdown",
   "id": "aa24b558",
   "metadata": {},
   "source": [
    "#### Add `red_binary_image` to viewer"
   ]
  },
  {
   "cell_type": "code",
   "execution_count": null,
   "id": "cdbb24a0",
   "metadata": {},
   "outputs": [],
   "source": [
    "# Add a new labels layer containing the `red_binary_image`\n",
    "binary_layer = viewer.add_labels(red_binary_image, name=\"red binary image\")"
   ]
  },
  {
   "cell_type": "markdown",
   "id": "e892ac9b",
   "metadata": {},
   "source": [
    "## Plot the histogram of the blurred red channel\n",
    "\n",
    "Vertical dotted line is otsu threshold"
   ]
  },
  {
   "cell_type": "code",
   "execution_count": null,
   "id": "5ea0dbc6",
   "metadata": {},
   "outputs": [],
   "source": [
    "fig = px.histogram(x=imageData_red_blurred.flatten(), log_y=True)\n",
    "fig.update_layout(xaxis_title=\"Image Intensity\")\n",
    "\n",
    "fig.add_vline(x=threshold, line_width=3, line_dash=\"dash\", line_color=\"black\")\n",
    "\n",
    "fig.show()"
   ]
  },
  {
   "cell_type": "markdown",
   "id": "77afb7e2",
   "metadata": {},
   "source": [
    "## Make some functions to load cellpose results.\n",
    "\n",
    "We need to\n",
    " 1. Load the cellpose `_seg.npy` file.\n",
    " 2. Extract some info from it, like the 3D DAPI/green masks."
   ]
  },
  {
   "cell_type": "code",
   "execution_count": null,
   "id": "74342344",
   "metadata": {},
   "outputs": [],
   "source": [
    "def getSeg_npy(tifPath):\n",
    "    \"\"\"Given an original tif path, get the cellpose '_seg.npy' file.\n",
    "    \"\"\"\n",
    "    _path, _file = os.path.split(tifPath)\n",
    "    segFile = os.path.splitext(_file)[0] + '_seg.npy'\n",
    "    segPath = os.path.join(_path, segFile)\n",
    "    return segPath\n",
    "\n",
    "def loadSegMask_npy(tifPath):\n",
    "    \"\"\"Given a tif file, load masks from cellpose _seg.npy file.\n",
    "    \"\"\"\n",
    "    segPath = getSeg_npy(tifPath)\n",
    "\n",
    "    dat = np.load(segPath, allow_pickle=True).item()\n",
    "    masks = dat['masks']\n",
    "    return masks"
   ]
  },
  {
   "cell_type": "markdown",
   "id": "99ae1b88",
   "metadata": {},
   "source": [
    "## Load the results of running the cellpose model on our 3D RGB stack\n",
    "\n",
    "We trained the `cyto` model on the dapi channel (check exactly what I did)"
   ]
  },
  {
   "cell_type": "code",
   "execution_count": null,
   "id": "04f52832",
   "metadata": {},
   "outputs": [],
   "source": [
    "cellpose_dapi_mask = loadSegMask_npy(tifPath)\n",
    "print('cellpose_dapi_mask:', cellpose_dapi_mask.shape, cellpose_dapi_mask.dtype)\n",
    "\n",
    "numLabels = len(np.unique(cellpose_dapi_mask))\n",
    "print('num labels in cellpose_dapi_mask:', numLabels)\n",
    "print('remember, label 0 is always background')"
   ]
  },
  {
   "cell_type": "markdown",
   "id": "50853c36",
   "metadata": {},
   "source": [
    "Add `cellpose_dapi_mask` to Napari"
   ]
  },
  {
   "cell_type": "code",
   "execution_count": null,
   "id": "30e68e80",
   "metadata": {},
   "outputs": [],
   "source": [
    "cellpose_dapi_mask_layer = viewer.add_labels(cellpose_dapi_mask, name=\"cellpose_dapi_mask\")"
   ]
  },
  {
   "cell_type": "markdown",
   "id": "5dd556ff",
   "metadata": {},
   "source": [
    "## Adjust the cellpose dapi mask with dilation and erosion\n",
    " \n",
    "For each label in `cellpose_dapi_mask`:\n",
    "  - Make a dilated version\n",
    "  - Make an eroded version\n",
    "  - Make a ring as different (xor) between dilated and eroded\n",
    "  \n",
    "Using the DAPI mask, for the red mask, calculate\n",
    "  - a. Number of pixels (size) of DAPI mask\n",
    "  - b. Number of pixels in Oligo mask contained in the DAPI mask\n",
    "  - c. Percent of pixels in Oligo channel that are in mask (b/a)"
   ]
  },
  {
   "cell_type": "code",
   "execution_count": null,
   "id": "c644989c",
   "metadata": {},
   "outputs": [],
   "source": [
    "numMasks = np.max(cellpose_dapi_mask)\n",
    "\n",
    "dapi_final_mask = np.zeros_like(cellpose_dapi_mask)  # dapi mask after dilation\n",
    "print('making dapi_dilated_mask', dapi_final_mask.shape, dapi_final_mask.dtype)\n",
    "\n",
    "listOfDict = []  # convert to pandas dataframe at end\n",
    "\n",
    "dilationIterations = 1  # was 3\n",
    "\n",
    "# numMasks+1 to include the last mask\n",
    "for maskIdx in range(numMasks+1):\n",
    "    if maskIdx == 0:\n",
    "        # background\n",
    "        continue\n",
    "    \n",
    "    _oneMask = cellpose_dapi_mask == maskIdx  # (46, 196, 196)\n",
    "    #print('_oneMask:', type(_oneMask), _oneMask.shape, _oneMask.dtype)\n",
    "\n",
    "    # dilate the mask\n",
    "    _dilatedMask = scipy.ndimage.binary_dilation(_oneMask, iterations=dilationIterations)\n",
    "    _erodedMask = scipy.ndimage.binary_erosion(_oneMask, iterations=dilationIterations)\n",
    "    #print('  dilatedMask:', type(dilatedMask), dilatedMask.shape, dilatedMask.dtype, np.sum(dilatedMask))\n",
    "\n",
    "    # make a ring\n",
    "    #dilatedMask = dilatedMask ^ _oneMask\n",
    "    finalMask = _dilatedMask ^ _erodedMask  # carrot (^) is xor\n",
    "\n",
    "    # the number of pixels in the dilated/eroded dapi mask\n",
    "    finalMaskCount = np.count_nonzero(finalMask)\n",
    "\n",
    "    # oligo red mask pixels in the (dilated/eroded) dapi mask\n",
    "    redImageMask = np.where(finalMask==True, red_binary_image, 0)  # 0 is fill value\n",
    "    #print('  redImageMask:', type(redImageMask), redImageMask.shape, redImageMask.dtype, np.sum(redImageMask))\n",
    "\n",
    "    # like cellpose_dapi_mask but after dilation\n",
    "    finalMaskLabel = finalMask.copy().astype(np.int64)\n",
    "    #print('1 ', dilatedMaskLabel.dtype, np.max(dilatedMaskLabel))\n",
    "    # +1 so colors are different from cellpose_dapi_mask\n",
    "    finalMaskLabel[finalMaskLabel>0] = maskIdx + 1   \n",
    "    #print('  2 ', dilatedMaskLabel.dtype, np.max(dilatedMaskLabel))\n",
    "    dapi_final_mask = dapi_final_mask + finalMaskLabel\n",
    "    #print('  dapi_dilated_mask:', dapi_dilated_mask.shape, np.sum(dapi_dilated_mask))\n",
    "    \n",
    "    redImageMaskPercent = np.sum(redImageMask) / finalMaskCount * 100\n",
    "    \n",
    "    oneDict = {\n",
    "        'label': maskIdx,\n",
    "        'redImageMaskSum': np.sum(redImageMask),  # sum of red mask in dilated dapi mask\n",
    "        'finalMaskCount': finalMaskCount,  # num pixels in dilated mask\n",
    "        'redImageMaskPercent': redImageMaskPercent,  # fraction of pixels in red mask in dilated mask\n",
    "    }\n",
    "    listOfDict.append(oneDict)\n",
    "\n",
    "    # no, labelIdx corresponds to napari label\n",
    "    #    NO: labelIdx here is (label + 1) in napari\n",
    "    #    NO: labelIdx 52 corresponds to 53 in napari\n",
    "    # in napari, label (83, 88) are 100% positive dapi+oligo\n",
    "    \n",
    "dfMaster = pd.DataFrame(listOfDict)\n",
    "\n",
    "# these are the dapi masks with a good amount of red\n",
    "redImageMaskPercent_threshold = 25\n",
    "print('\\nredImageMaskPercent_threshold:', redImageMaskPercent_threshold)\n",
    "print('Using this threshold, we have the following DAPI mask candidates')\n",
    "print('. e.g. the ones with a lot of Oligo red)')\n",
    "print(dfMaster[dfMaster['redImageMaskPercent']>=redImageMaskPercent_threshold])\n"
   ]
  },
  {
   "cell_type": "markdown",
   "id": "51c5b5f8",
   "metadata": {},
   "source": [
    "#### Add final dapi mask to Napari (`dapi_final_mask`)"
   ]
  },
  {
   "cell_type": "code",
   "execution_count": null,
   "id": "9a796af2",
   "metadata": {},
   "outputs": [],
   "source": [
    "# my dapi mask after dilation\n",
    "# view this with threshold red channel\n",
    "print('dapi_final_mask:', dapi_final_mask.shape, np.sum(dapi_final_mask))\n",
    "dapi_dilated_mask_layer = viewer.add_labels(dapi_final_mask, name=\"dapi_final_mask\")"
   ]
  },
  {
   "cell_type": "markdown",
   "id": "62264445",
   "metadata": {},
   "source": [
    "## Inspect DAPI mask with red channel to note oligo nuclei\n",
    "\n",
    "Using Napari ...\n",
    "\n",
    "`cellpose_dapi_mask` and `imageData_red` to note the DAPI/nuclei you would mark that are Oligo nuclei. Basically, there is red around the DAPI/nucleus labelling.\n",
    "\n",
    "#### File: fst-concat-rgb-small.tif\n",
    "\n",
    "Manual Labels:\n",
    "\n",
    " - 19 (z 3)\n",
    " - 53 (z 20)\n",
    " - 69 (z 30)\n",
    " - 73 (z 33)\n",
    " - 86 (z 39)\n",
    " - 105 (z 42)\n",
    "\n",
    "TODO: Add these to dfMaster\n",
    "\n",
    "Notes:\n",
    "    label 53 shows small % Oligo because cellpose DAPI mask is HUGE\n",
    "    \n",
    "#### File: Morphine-rgb-merged-small.tif\n",
    "\n",
    "Manual Labels:\n",
    " - 24 (z 6)\n",
    " - 53 (z 17) ???\n",
    " - 42 (z 20) ???\n",
    " - 83 (z 29)\n",
    " - 88 (z 34)\n",
    " - 113 (z 41) huge DAPI mask"
   ]
  },
  {
   "cell_type": "code",
   "execution_count": null,
   "id": "51f70022",
   "metadata": {},
   "outputs": [],
   "source": [
    "# make a column to score DAPI mask labels as (Unknown, Oligo)\n",
    "dapiScoring = ['Unknown'] * (numMasks)\n",
    "\n",
    "# File: fst-concat-rgb-small.tif\n",
    "if filename == 'fst-concat-rgb-small.tif':\n",
    "    dapiScoring[19-1] = 'Oligo'\n",
    "    dapiScoring[53-1] = 'Oligo'\n",
    "    dapiScoring[69-1] = 'Oligo'\n",
    "    dapiScoring[73-1] = 'Oligo'\n",
    "    dapiScoring[86-1] = 'Oligo'\n",
    "    dapiScoring[105-1] = 'Oligo'\n",
    "\n",
    "# File: Morphine-rgb-merged-small.tif \n",
    "if filename == 'Morphine-rgb-merged-small.tif':\n",
    "    dapiScoring[24-1] = 'Oligo'\n",
    "    dapiScoring[53-1] = 'Oligo'\n",
    "    dapiScoring[42-1] = 'Oligo'\n",
    "    dapiScoring[83-1] = 'Oligo'\n",
    "    dapiScoring[88-1] = 'Oligo'\n",
    "    dapiScoring[113-1] = 'Oligo'\n",
    "\n",
    "#dapiScoring.insert(0, \"Unknown\")\n",
    "\n",
    "#print(dapiScoring)\n",
    "\n",
    "dfMaster['dapiScoring'] = dapiScoring\n",
    "\n",
    "display(dfMaster[dfMaster['dapiScoring']=='Oligo'])"
   ]
  },
  {
   "cell_type": "code",
   "execution_count": null,
   "id": "ddd1fa8b",
   "metadata": {},
   "outputs": [],
   "source": [
    "#myLabels = [19, 53, 69,73, 86,105]\n",
    "\n",
    "fig = px.scatter(dfMaster, x='label', y='redImageMaskPercent',\n",
    "                    size='finalMaskCount',\n",
    "                    color='dapiScoring',\n",
    "                     title=filename,\n",
    "                    template='plotly_dark')\n",
    "# for aLabel in myLabels:\n",
    "#     fig.add_vline(x=aLabel, line_width=2, line_dash='dash', line_color='black')\n",
    "fig.add_hline(y=redImageMaskPercent_threshold,\n",
    "                      line_width=2, line_dash='dash', line_color='red')\n",
    "\n",
    "fig.update_layout(xaxis_title=\"DAPI Mask (label)\")\n",
    "fig.update_layout(yaxis_title=\"Oligo (%) redImageMaskPercent\")\n",
    "\n",
    "print(filename)\n",
    "print('size is the size of the dapi mask \"finalMaskCount\"')\n",
    "print('\"Unknown\" and \"Oligo\" are manual scoring, looking for Oligo around DAPI')\n",
    "\n",
    "fig.show()"
   ]
  },
  {
   "cell_type": "markdown",
   "id": "c06fa30e",
   "metadata": {},
   "source": [
    "## Generate statistics for each DAPI mask\n",
    "\n",
    "Using `cellpose_dapi_mask`, we will get properties like:\n",
    "\n",
    " - label of each mask (1, 2, 3, ...)\n",
    " - centroid (z, y, x) of each mask\n",
    " - area (how big or small is each mask)\n",
    "    \n",
    "TODO: Look up other properties"
   ]
  },
  {
   "cell_type": "code",
   "execution_count": null,
   "id": "290b8250",
   "metadata": {},
   "outputs": [],
   "source": [
    "print('cellpose_dapi_mask:', \\\n",
    "          cellpose_dapi_mask.shape, \\\n",
    "          cellpose_dapi_mask.dtype, \\\n",
    "          'min:', np.min(cellpose_dapi_mask),\n",
    "          'max:', np.max(cellpose_dapi_mask),\n",
    "     )\n",
    "\n",
    "# regionprop does not return row label 0 (backgroun)\n",
    "_properties = ['label', 'centroid', 'area']  # 'solidity' gives convex-hull error\n",
    "props_dict = regionprops_table(cellpose_dapi_mask, properties=_properties)\n",
    "\n",
    "print('props_dict.keys:', props_dict.keys())\n",
    "\n",
    "# df from props\n",
    "dfProps = pd.DataFrame(props_dict)\n",
    "\n",
    "# rename some columns\n",
    "dfProps = dfProps.rename(columns={'centroid-0': 'z', 'centroid-1': 'y', 'centroid-2': 'x'})\n",
    "\n",
    "#print(dfProps)\n",
    "\n",
    "# statistics : [skimage.measure._regionprops.RegionProperties]\n",
    "_regionprops = regionprops(cellpose_dapi_mask)\n",
    "\n",
    "# add to dfMaster\n",
    "#print('dfMaster:', dfMaster)\n",
    "\n",
    "dfMaster['x'] = dfProps['x'].tolist()\n",
    "dfMaster['y'] = dfProps['y'].tolist()\n",
    "dfMaster['z'] = dfProps['z'].tolist()\n",
    "dfMaster['area'] = dfProps['area'].tolist()\n",
    "\n",
    "display(dfMaster)\n"
   ]
  },
  {
   "cell_type": "markdown",
   "id": "c4e86db1",
   "metadata": {},
   "source": [
    "## Look at DAPI mask size and percent Oligo\n",
    "\n",
    "This reveals a false-negative because DAPI mask was huge, making Oligo percent small.\n",
    "\n",
    "Note: we still have a few false-positives. We will handle them by scoring each \"candidate\" Oligo/DAPI manually.\n",
    "    "
   ]
  },
  {
   "cell_type": "code",
   "execution_count": null,
   "id": "599fc83e",
   "metadata": {},
   "outputs": [],
   "source": [
    "## Compare our DAPI mask size to \n",
    "fig = px.scatter(dfMaster, x='finalMaskCount', y='area',\n",
    "                     size='redImageMaskPercent',\n",
    "                    color='dapiScoring',\n",
    "                     title=filename,\n",
    "                    template='plotly_dark')\n",
    "\n",
    "fig.update_layout(xaxis_title=\"DAPI Mask (pixels) finalMaskCount\")\n",
    "fig.update_layout(yaxis_title=\"DAPI Mask (area) area\")\n",
    "\n",
    "print('Size is \"redImageMaskPercent\"')\n",
    "\n",
    "fig.show()"
   ]
  },
  {
   "cell_type": "markdown",
   "id": "b69de247",
   "metadata": {},
   "source": [
    "## Make a Napari points layer from the region props of cellpose mask\n",
    "\n",
    "Using `cellpose_dapi_mask`.\n",
    "\n",
    "This is so we can browse using napari-layer-table plugin."
   ]
  },
  {
   "cell_type": "code",
   "execution_count": null,
   "id": "c5b970ca",
   "metadata": {},
   "outputs": [],
   "source": [
    "# make a points layer from centroid\n",
    "_regionprops = regionprops(cellpose_dapi_mask)\n",
    "\n",
    "# add centroid to napari\n",
    "points = [s.centroid for s in _regionprops]  # point[i] is a tuple of (z, y, x)\n",
    "points.insert(0, [0, 0, 0])\n",
    "\n",
    "#print('points:', len(points), points[0])\n",
    "\n",
    "# assign napari face_color\n",
    "face_color = ['blue'] * len(points)\n",
    "oligoLabelList = dfMaster[dfMaster['dapiScoring']=='Oligo']['label'].tolist()\n",
    "#print('oligoLabelList:', oligoLabelList)\n",
    "for _oligoLabel in oligoLabelList:\n",
    "    face_color[_oligoLabel] = 'red'\n",
    "\n",
    "# add a 'redImageMaskPercent' column as a property\n",
    "_percentList = dfMaster['redImageMaskPercent'].tolist()\n",
    "_percentList.insert(0, 0)\n",
    "\n",
    "_finalMaskCount = dfMaster['finalMaskCount'].tolist()\n",
    "_finalMaskCount.insert(0, 0)\n",
    "\n",
    "properties = {\n",
    "    'redImageMaskPercent': _percentList,\n",
    "    'finalMaskCount': _finalMaskCount,\n",
    "}\n",
    "\n",
    "# add points to viewer\n",
    "label_layer_points = viewer.add_points(points,\n",
    "                                       face_color=face_color,\n",
    "                                       symbol='cross',\n",
    "                                       size=5,\n",
    "                                      properties=properties)\n",
    "\n",
    "#print(type(label_layer_points.properties))\n",
    "\n",
    "#runPlugin(viewer, label_layer_points)"
   ]
  },
  {
   "cell_type": "code",
   "execution_count": null,
   "id": "37d108a2",
   "metadata": {},
   "outputs": [],
   "source": [
    "runPlugin(viewer, label_layer_points)"
   ]
  },
  {
   "cell_type": "markdown",
   "id": "dbad1594",
   "metadata": {},
   "source": [
    "## I started this process like this\n",
    "\n",
    "Trying to draw a vertical line here. To the right are DAPI/Oligo candidates."
   ]
  },
  {
   "cell_type": "code",
   "execution_count": null,
   "id": "7ce96240",
   "metadata": {},
   "outputs": [],
   "source": [
    "# plot with plotly\n",
    "fig = px.histogram(dfMaster, x='redImageMaskPercent', log_y=True)\n",
    "fig.show()"
   ]
  },
  {
   "cell_type": "code",
   "execution_count": null,
   "id": "aa2f08cc",
   "metadata": {},
   "outputs": [],
   "source": []
  }
 ],
 "metadata": {
  "kernelspec": {
   "display_name": "Python 3 (ipykernel)",
   "language": "python",
   "name": "python3"
  },
  "language_info": {
   "codemirror_mode": {
    "name": "ipython",
    "version": 3
   },
   "file_extension": ".py",
   "mimetype": "text/x-python",
   "name": "python",
   "nbconvert_exporter": "python",
   "pygments_lexer": "ipython3",
   "version": "3.8.13"
  }
 },
 "nbformat": 4,
 "nbformat_minor": 5
}
